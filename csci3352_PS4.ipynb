{
 "cells": [
  {
   "cell_type": "markdown",
   "metadata": {},
   "source": [
    "# CSCI 3352 Biological Networks, Spring 2023, Prof. Clauset\n",
    "Submit here: https://canvas.colorado.edu/courses/91192"
   ]
  },
  {
   "cell_type": "markdown",
   "metadata": {},
   "source": [
    "# Problem Set 4 : Predicting missing node attributes in networks\n",
    "\n",
    "***\n",
    "\n",
    "**Name**: ANNA HIRSCHMANN\n",
    "\n",
    "Collaborators: I discussed the concepts and problems with Julia Bao and Carol Chang\n",
    "\n",
    "***\n",
    "\n",
    "This assignment is due on Canvas by **11:55pm on Friday, February 17th**. Your solutions to non-programming questions should be done in Markdown directly below the associated question. Your solutions to computational questions should include any specified Python code and results as well as written commentary on your conclusions.  Remember that you are encouraged to discuss the problems with your classmates, but **you must write all code and solutions on your own** (see syllabus for detailed guidance). There are 90 points total, and 15 pts extra credit.\n",
    "\n",
    "**NOTES**: \n",
    "\n",
    "- Unless a url is given for a data set, you will find the required data on the course Canvas.\n",
    "- If you're not familiar with typesetting math directly in Markdown, you may do your work on paper first and then typeset it later. This [reference guide](https://math.meta.stackexchange.com/questions/5020/mathjax-basic-tutorial-and-quick-reference) provides helpful guidance for writing math in Markdown. \n",
    "- It is **unhelpful** to make your reader interpret numerical output from your code.  If a question asks you to compute some value from the data you should show your code output **AND** write a summary of the results in Markdown directly below your code.\n",
    "\n",
    "***\n",
    "* networkx [Documentation](https://networkx.github.io/documentation/stable/) and [Tutorial](https://networkx.github.io/documentation/stable/tutorial.html)\n",
    "* igraph [Documentation](https://igraph.org/python/versions/latest/install.html) and [Tutorial](https://igraph.org/python/tutorial/0.9.8/tutorial.html)"
   ]
  },
  {
   "cell_type": "code",
   "execution_count": 1,
   "metadata": {},
   "outputs": [],
   "source": [
    "import networkx as nx\n",
    "import numpy as np\n",
    "import matplotlib\n",
    "import matplotlib.pylab as plt\n",
    "%matplotlib inline"
   ]
  },
  {
   "cell_type": "markdown",
   "metadata": {},
   "source": [
    "***\n",
    "## Problem 1 : Label me this, label me that (85 pts total)\n",
    "\n",
    "In this problem, you will implement and systematically evaluate the `local smoothing` prediction algorithm. We'll build up this numerical experiment in stages. First, you'll implement the `baseline` predictor, then the `local smoothing` predictor. After that, you'll construct a *good* test of the `local smoothing` algorithm for a single choice of a _missingness function_ $f$. And finally, you'll write a wrapper around this function to explore how performance varies as a function of $f$.\n",
    "\n",
    "For the last two steps, we'll use a real-world network derived from the genes of the human malaria parasite _P. falciparum_. These genes are located in one of nine highly variable regions (HVRs) in the DBLa domain of the parasite's var protein. In this network, nodes are antigen *genes* of the parasite and two nodes are connected if they contain evidence of past non-homologous *recombination* (basically, if they share a long subsequence). The node metadata represents a biologically-relevant classification scheme of the nodes.\n",
    "* Visit the [Index of Complex Networks](https://icon.colorado.edu/) and obtain the `HVR_5` network and `metadata_CysPoLV` node attribute files for the ICON entry _Malaria var DBLa HVR networks_."
   ]
  },
  {
   "cell_type": "markdown",
   "metadata": {},
   "source": [
    "### Problem 1-A (10 pts) Malaria gene recombination network\n",
    "\n",
    "To warm up, load both the *HVR_5* network and treat it as a simple graph (edges unweighted and undirected; no multi-edges; no self-loops), and the *metadata_CysPoLV* file. Then calculate and report the following.\n",
    "* number of nodes $n$\n",
    "* (undirected) edges $m$\n",
    "* mean degree $\\langle k \\rangle$\n",
    "* clustering coefficient $C$\n",
    "* mean geodesic distance $\\langle \\ell \\rangle$\n",
    "* a `ridiculogram` of the network, using the provided `drawGz()` function\n",
    "* a `bar` plot showing the attribute frequencies in the `metadata` file\n",
    "\n",
    "Note: In the code box below, the preamble takes care of the tricky part of correctly aligning the network data with the node metadata, so that you can focus on the analysis parts."
   ]
  },
  {
   "cell_type": "code",
   "execution_count": 135,
   "metadata": {},
   "outputs": [],
   "source": [
    "## COPIED MY CODE TO COMPUTE MEAN GEODESIC DISTANCE FROM PROBLEM SET 3\n",
    "def compute_MGD(G):\n",
    "    # input : a networkx graph G\n",
    "    # output: the mean geodesic path length (defined in Lecture 2)\n",
    "\n",
    "    shortest_paths = nx.all_pairs_shortest_path_length(G)\n",
    "    \n",
    "    num_tot_paths = 0\n",
    "    tot_l = 0\n",
    "    \n",
    "    for paths in shortest_paths:\n",
    "        tot_l += sum(paths[1].values())\n",
    "        num_tot_paths += (len(paths[1]) - 1) # subtract one for the 0-length path from node to itself\n",
    "    \n",
    "    return tot_l / num_tot_paths"
   ]
  },
  {
   "cell_type": "code",
   "execution_count": 136,
   "metadata": {},
   "outputs": [],
   "source": [
    "def drawGz(G,z):\n",
    "    # DO NOT MODIFY THIS FUNCTION\n",
    "    # This function draws G with node labels from partition z\n",
    "    #\n",
    "    # input  : G is a networkx graph\n",
    "    #        : z is a dictionary of group labels for G's nodes\n",
    "    # output : a ridiculogram plot of G\n",
    "    # \n",
    "    # WARNING: function is optimistic: assumes inputs are properly formatted\n",
    "\n",
    "    colors = ['#d61111','#11c6d6','#d67711','#11d646','#1b11d6','#d611cc'] # map node labels to colors (for the visualization)\n",
    "\n",
    "    node_colors = []\n",
    "    for i in G.nodes():\n",
    "        node_colors.append(colors[int(z[i])-1])\n",
    "    nsize  = 600\n",
    "    flabel = True\n",
    "\n",
    "    if G.order() > 50:\n",
    "        nsize  = 50\n",
    "        flabel = False\n",
    "        \n",
    "    nx.draw_networkx(G,with_labels=flabel,node_size=nsize,width=2,node_color=node_colors) # draw it pretty\n",
    "    limits=plt.axis('off')                                      # turn off axes\n",
    "    plt.show() \n",
    "\n",
    "    return"
   ]
  },
  {
   "cell_type": "code",
   "execution_count": 137,
   "metadata": {},
   "outputs": [
    {
     "name": "stdout",
     "output_type": "stream",
     "text": [
      "reading the network file  : HVR_5.txt\n",
      "reading the metadata file : metadata_CysPoLV.txt\n",
      "\n",
      "number of nodes, n  = 298\n",
      "number of edges, m  = 2684\n",
      "mean degree,    <k> = 18.01\n",
      "clustering coefficient, C     =  0.36\n",
      "mean geodesic distance, <ell> =  2.92\n"
     ]
    }
   ],
   "source": [
    "# this data set is from :\n",
    "# D. B. Larremore et al., \"A network approach to analyzing highly recombinant malaria parasite genes.\"\n",
    "#                          PLOS Computational Biology 9(10), e1003268 (2013).\n",
    "fname1 = 'HVR_5.txt'\n",
    "fname2 = 'metadata_CysPoLV.txt'\n",
    "\n",
    "# read in the network file (an edge list)\n",
    "print(f'reading the network file  : {fname1}')\n",
    "G = nx.read_edgelist('./' + fname1, delimiter=',', nodetype=int)  # import simple graph, index nodes by integers (not strings)\n",
    "\n",
    "# read in the node metadata (note: there are more metadata values here than nodes in G)\n",
    "print(f'reading the metadata file : {fname2}\\n')\n",
    "f = open('./' + fname2,'r')\n",
    "labels = []\n",
    "for line in f:\n",
    "    labels.append(int(line.rstrip('\\n'))) # strip the \\n and convert label to an int\n",
    "f.close() \n",
    "\n",
    "# for each node i in G, add (j: j's label) to a dictionary z\n",
    "z = {}\n",
    "for i in range(0,len(labels)):\n",
    "    if i+1 in G.nodes():\n",
    "        z[i+1] = labels[i] \n",
    "    \n",
    "####################################\n",
    "##### do not modify above here #####\n",
    "\n",
    "n = G.number_of_nodes()\n",
    "m = G.number_of_edges()\n",
    "kmean = (2*m) /n\n",
    "ellmean = compute_MGD(G) # applied the function I defined in Problem Set 3\n",
    "C = nx.transitivity(G)\n",
    "\n",
    "##### do not modify below here #####\n",
    "####################################\n",
    "\n",
    "print(f'number of nodes, n  = {n}')\n",
    "print(f'number of edges, m  = {m}')\n",
    "print(f'mean degree,    <k> = %5.2f' % kmean)\n",
    "print(f'clustering coefficient, C     = %5.2f' % C)\n",
    "print(f'mean geodesic distance, <ell> = %5.2f' % ellmean)"
   ]
  },
  {
   "cell_type": "code",
   "execution_count": 138,
   "metadata": {},
   "outputs": [
    {
     "data": {
      "image/png": "[encoded data removed]",
      "text/plain": [
       "<Figure size 432x288 with 1 Axes>"
      ]
     },
     "metadata": {},
     "output_type": "display_data"
    },
    {
     "data": {
      "image/png": "[encoded data removed]",
      "text/plain": [
       "<Figure size 720x504 with 1 Axes>"
      ]
     },
     "metadata": {
      "needs_background": "light"
     },
     "output_type": "display_data"
    }
   ],
   "source": [
    "## RIDICULOGRAM\n",
    "drawGz(G,z) # uses provided function to plot a ridiculogram of the data\n",
    "\n",
    "## ATTRIBUTE FREQUENCY PLOT\n",
    "\n",
    "label_cts = {val: 0 for val in set(labels)} # initializes a dictionary with labels as keys,\n",
    "                                            # will populate with a count to get data for bar graph\n",
    "\n",
    "for i in range(len(labels)):\n",
    "    label_cts[labels[i]] += 1\n",
    "\n",
    "# creates the label count bar graph\n",
    "plt.figure(figsize = (10, 7))\n",
    "plt.bar(label_cts.keys(), label_cts.values(), color = 'goldenrod')\n",
    "plt.title('Frequency of Metadata Attributes', fontsize = 16)\n",
    "plt.xlabel('Attribute', fontsize = 14)\n",
    "plt.xlabel('Frequency', fontsize = 14)\n",
    "plt.show()"
   ]
  },
  {
   "cell_type": "markdown",
   "metadata": {},
   "source": [
    "Above, we see a ridiculogram of our malaria network dataset, in which nodes are colored (categorical label) based on metadata associated with this network. The second visual shows the relative frequency of the attributes that appear in the network, with 4 standing out as being significantly more popular than any of the other label possibilities. "
   ]
  },
  {
   "cell_type": "markdown",
   "metadata": {},
   "source": [
    "### Problem 1-B (10 pts) : the baseline\n",
    "\n",
    "* Write the function `predictLabel_baseline(x)` to implement the `baseline` node attribute predictor given in Lecture Notes 4.\n",
    "  * It takes as input `x`, a dictionary of observed labels (node i: label of i), within which a $-1$ indicates a missing label.\n",
    "  * It returns as output, the result of the baseline predictor.\n",
    "* Then, write code in the cell below that to\n",
    "  * apply your predictor to each of the nodes in the $G_\\circ$ given below,\n",
    "  * for each prediction, print a statement of the form `node 1 : -1 -> 2 (baseline)` that gives the node a prediction was made for, its observed `x` value and its predicted value, and then\n",
    "  * store the final labels (non-missing observed + predictions) in a dictionary `xp`.\n",
    "\n",
    "Note: the preamble below includes the graph `Go`, and a given labeling `x`, and will display both."
   ]
  },
  {
   "cell_type": "code",
   "execution_count": 6,
   "metadata": {},
   "outputs": [],
   "source": [
    "import random as rnd\n",
    "def predictLabel_baseline(x):\n",
    "    # input:  x, dict of observed labels\n",
    "    # output: baseline predictor, Uniform(\\vec{x}-\\emptyset)\n",
    "    \n",
    "    choices = [x[node] for node in x if x[node] != -1] # a list, with multiplicities of all the observed labels\n",
    "                                                       # (does not include nodes missing labels)\n",
    "    \n",
    "    for node in x:\n",
    "        if x[node] == -1: # if the node does not have a label\n",
    "            x[node] = rnd.choice(choices) # pick randomly from empirical set\n",
    "            print(f'node {node}: -1 -> {x[node]} (baseline)')\n",
    "    #print(choices)\n",
    "    #print(x)\n",
    "    return x"
   ]
  },
  {
   "cell_type": "code",
   "execution_count": 7,
   "metadata": {},
   "outputs": [
    {
     "name": "stdout",
     "output_type": "stream",
     "text": [
      "initial node labels and network:\n",
      "node 1, label -1\n",
      "node 2, label 1\n",
      "node 3, label 2\n",
      "node 4, label 2\n",
      "node 5, label -1\n",
      "node 6, label 3\n"
     ]
    },
    {
     "data": {
      "image/png": "[encoded data removed]",
      "text/plain": [
       "<Figure size 432x288 with 1 Axes>"
      ]
     },
     "metadata": {},
     "output_type": "display_data"
    },
    {
     "name": "stdout",
     "output_type": "stream",
     "text": [
      "\n",
      "applying baseline predictor to\n",
      "node 1: -1 -> 1 (baseline)\n",
      "node 5: -1 -> 3 (baseline)\n",
      "\n",
      "final node labels and network:\n",
      "node 1, label 1\n",
      "node 2, label 1\n",
      "node 3, label 2\n",
      "node 4, label 2\n",
      "node 5, label 3\n",
      "node 6, label 3\n"
     ]
    },
    {
     "data": {
      "image/png": "[encoded data removed]",
      "text/plain": [
       "<Figure size 432x288 with 1 Axes>"
      ]
     },
     "metadata": {},
     "output_type": "display_data"
    }
   ],
   "source": [
    "#import random as rnd\n",
    "seed = 822 # your MMYY birthday here\n",
    "rnd.seed(seed)\n",
    "\n",
    "# a small network to test your baseline predictor\n",
    "Go = nx.Graph([(1,2),(1,3),(1,4),(1,5),(1,6)])\n",
    "\n",
    "# and its observed node labels x, as a dictionary\n",
    "x = {1: -1, 2: 1, 3: 2, 4: 2, 5: -1, 6: 3}\n",
    "\n",
    "# to start, display the observed labels and draw G with them\n",
    "print(f'initial node labels and network:')\n",
    "for i in x:\n",
    "    print(f'node {i}, label {x[i]}')\n",
    "drawGz(Go,x)\n",
    "\n",
    "xp = {} # put your node labels, after predictions, here (as a dictionary)\n",
    "print(f'\\napplying baseline predictor to')\n",
    "\n",
    "####################################\n",
    "##### do not modify above here #####\n",
    "\n",
    "xp = predictLabel_baseline(x) # defines a new predicted label dictionary where unlabeled nodes are replaced with a randomly selected label\n",
    "\n",
    "##### do not modify above here #####\n",
    "####################################\n",
    "print(f'\\nfinal node labels and network:')\n",
    "for i in xp:\n",
    "    print(f'node {i}, label {xp[i]}')\n",
    "drawGz(Go,xp)"
   ]
  },
  {
   "cell_type": "markdown",
   "metadata": {},
   "source": [
    "Nodes 1 and 5 on the original graph were unlabeled, so the second graph shows the result of applying the baseline predictor to those two nodes, which assigns them labels randomly selected from the empirical data."
   ]
  },
  {
   "cell_type": "markdown",
   "metadata": {},
   "source": [
    "### Problem 1-C (15 pts) : local smoothing\n",
    "\n",
    "* Now write a function `predictLabel_local(G,i,x,flag)` that implements the `local smoothing` node attribute predictor for categorical variables given in Lecture Notes 4.\n",
    "  * It takes as input the graph `G`, a node index `i`, and a dictionary of observed labels `x`, as before.\n",
    "  * As in Problem Set 2, `flag` is a binary variable that toggles whether for each prediction, it prints a statement of the form `node 1 : -1 -> 2 ([method])`, where `method` is either `smoothing` or `baseline`, depending on which predictor was applied.\n",
    "\n",
    "* Then,\n",
    "  * apply your predictor (with `flag=1`) to each of the nodes in the $G_\\circ$ given below, and then\n",
    "  * store the final labels (non-missing observed + predictions) in a dictionary `xp`.\n",
    "\n",
    "Hint 1: Don't forget that the `local smoothing` predictor should default to the `baseline` predictor in the event that all of a node's neighbors are missing their labels.\n",
    "\n",
    "Hint 2: To avoid having the output of an early prediction influence the output of a later prediction, for each node $i$, use the `xp` variable to store both the output of any prediction, or the observed label (if no prediction is made). That is, make your predictions *synchronously*."
   ]
  },
  {
   "cell_type": "code",
   "execution_count": 81,
   "metadata": {},
   "outputs": [],
   "source": [
    "# This helper function finds the mode(s) of an input list and will be used to implement the local smoothing predictor defined below\n",
    "\n",
    "def mode(lst):\n",
    "    # imputs: list of values\n",
    "    # outputs: a list containing the mode(s) of the input list\n",
    "    counts = [(i, lst.count(i)) for i in set(lst)] # a list of tuples corresponding to (label, # of appearances of the label)\n",
    "    \n",
    "    max_ct = 0\n",
    "    for elt, ct in counts:\n",
    "        if ct > max_ct:\n",
    "            max_ct = ct # updates max count to be the largest label count so far\n",
    "\n",
    "    return [i for i, ct in counts if ct == max_ct] # returns a list of most frequent label(s)"
   ]
  },
  {
   "cell_type": "code",
   "execution_count": 235,
   "metadata": {},
   "outputs": [],
   "source": [
    "def predictLabel_local(G,i,x,flag):\n",
    "    # input:  G, simple networkx graph\n",
    "    #         i, a node in G whose label we will predict\n",
    "    #         x, dict of observed labels for G\n",
    "    #         flag, binary value\n",
    "    # output: local smoothing predictor output for i\n",
    "    #         a print statement (see instructions) if flag=1\n",
    "\n",
    "    baseline_choices = [x[node] for node in x if x[node] != -1] # all the empirical data for nodes that have labels\n",
    "    \n",
    "    if baseline_choices == []: # checks if there is at least one labeled node in the network, otherwise predictions can't be made\n",
    "                               # this was giving me a bit of an issue in problem 1e, so I added this check to avoid raising errors\n",
    "                               # in the rare case when there is no node attribute data at all\n",
    "        print('No attributes to choose from. There is no data on which to base predictions.')\n",
    "        return None\n",
    "\n",
    "    neighbors = list(nx.neighbors(G, i)) # list of the neighbors of node i\n",
    "\n",
    "    neighbor_labels = [x[n] for n in neighbors if x[n] != -1] # list of the labels held by the neighbors of node i (unless unlabeled)\n",
    "    \n",
    "    if neighbor_labels == []: # if all the neighbors of i are unlabeled, will default to the baseline predictor\n",
    "        predictor = rnd.choice(baseline_choices)\n",
    "        if flag == 1:\n",
    "            print(f'node {i} : -1 -> {predictor} (baseline)')\n",
    "    else:\n",
    "        # mode of neighbor labels\n",
    "        predictor = rnd.choice(mode(neighbor_labels)) # uses mode function (because these attributes are categorical)\n",
    "        if flag == 1:\n",
    "            print(f'node {i} : -1 -> {predictor} (smoothing)')\n",
    "    \n",
    "    return predictor # returns the label predicted for node i using the local smoothing method"
   ]
  },
  {
   "cell_type": "code",
   "execution_count": 236,
   "metadata": {},
   "outputs": [
    {
     "name": "stdout",
     "output_type": "stream",
     "text": [
      "initial node labels and network:\n",
      "node 1, label -1\n",
      "node 2, label 1\n",
      "node 3, label 2\n",
      "node 4, label 3\n",
      "node 5, label -1\n",
      "node 6, label 2\n"
     ]
    },
    {
     "data": {
      "image/png": "[encoded data removed]",
      "text/plain": [
       "<Figure size 432x288 with 1 Axes>"
      ]
     },
     "metadata": {},
     "output_type": "display_data"
    },
    {
     "name": "stdout",
     "output_type": "stream",
     "text": [
      "\n",
      "applying baseline predictor to\n",
      "node 1 : -1 -> 2 (smoothing)\n",
      "node 5 : -1 -> 2 (baseline)\n",
      "\n",
      "final node labels and network:\n",
      "node 1, label 2\n",
      "node 2, label 1\n",
      "node 3, label 2\n",
      "node 4, label 3\n",
      "node 5, label 2\n",
      "node 6, label 2\n"
     ]
    },
    {
     "data": {
      "image/png": "[encoded data removed]",
      "text/plain": [
       "<Figure size 432x288 with 1 Axes>"
      ]
     },
     "metadata": {},
     "output_type": "display_data"
    }
   ],
   "source": [
    "import random as rnd\n",
    "seed = 822# your MMYY birthday here\n",
    "rnd.seed(seed)\n",
    "\n",
    "# a graph and its observed node labels, to start\n",
    "Go = nx.Graph([(1,2),(1,3),(1,4),(1,5),(1,6)])\n",
    "x  = {1: -1, 2: 1, 3: 2, 4: 3, 5: -1, 6: 2}\n",
    "\n",
    "# to start, display the observed labels and draw G with them\n",
    "print(f'initial node labels and network:')\n",
    "for i in x:\n",
    "    print(f'node {i}, label {x[i]}')\n",
    "drawGz(Go,x)\n",
    "\n",
    "xp = {} # put your node labels, after predictions, here (as a dictionary)\n",
    "print(f'\\napplying baseline predictor to')\n",
    "\n",
    "####################################\n",
    "##### do not modify above here #####\n",
    "\n",
    "xp = x.copy() # make a shallow copy of x dictionary (so that the original dictionary is unaffected and predictions are made synchronously)\n",
    "xp[1] = predictLabel_local(Go,1,x,flag= 1) # run prediction algorithm for node 1\n",
    "xp[5] = predictLabel_local(Go,5,x,flag= 1) # run prediction algorithm for node 5\n",
    "\n",
    "##### do not modify above here #####\n",
    "####################################\n",
    "print(f'\\nfinal node labels and network:')\n",
    "for i in xp:\n",
    "    print(f'node {i}, label {xp[i]}')\n",
    "drawGz(Go,xp)"
   ]
  },
  {
   "cell_type": "markdown",
   "metadata": {},
   "source": [
    "It is notable that using the local smoothing method for node 1 produces a different outcome than using the baseline predictor and, if this network is assortative, the predicted labels are more accurate. For node 5, the baseline predictor is used because its only neighbor is node one, which is also unlabeled in the empirical data set. "
   ]
  },
  {
   "cell_type": "markdown",
   "metadata": {},
   "source": [
    "### Problem 1-D (35 pts) : missingness\n",
    "\n",
    "Now we get to play with malaria gene data. Let the missingness function $f$ be one that selects a uniformly random _fraction_ $\\alpha\\in(0,1)$ of attributes to observe. And, define the performance measure to be the `accuracy (ACC)`.\n",
    "\n",
    "Because $f$ is a stochastic function, the accuracy we calculate will be a random variable. Hence, just like in Problem Set 3, we will need to average the accuracy over several _repetitions_ to get a good estimate.\n",
    "\n",
    "* Write a function `compute_ACC_onG(G,x,alpha)` that computes the ACC for applying the `local smoothing` predictor to an instance of $G$ in which we observe each node's attribute with probability $\\alpha$. This function takes as input the network `G`, the actual node labels `x`, and the value $\\alpha$. It should then construct an observed set of labels `xo`, produce a set of predicted labels `xp`, and then return the ACC for those predictions.\n",
    "* In the cell below that, write a wrapper around your function that computes the ACCs over `nrep=10` repetitions, each with $\\alpha=0.8$.\n",
    "* Report both\n",
    "  * the list of individual ACCs (one per rep) and\n",
    "  * their average over all reps.\n",
    "* Finally, in the discussion box below that, briefly comment about how well `local smoothing` does at this task, in light of any class balance issues.\n",
    "\n",
    "Hint 1: I used a $c \\times c$ numpy array, where $c$ is the number of unique labels in `x`, to construct the confusion matrix, and then used the `np.trace()` and `.sum()` functions to get the ACC.\n",
    "\n",
    "Hint 2: You can check that your code is about right by trying a few different values of $\\alpha$. When I ran it with $\\alpha=0.05$, I found ACC $\\approx0.50$, and with $\\alpha=0.95$, I found ACC $\\approx0.70$. This makes sense that ACC should increase with $\\alpha$, since at higher values, we're making fewer predictions and have more observed labels to work with."
   ]
  },
  {
   "cell_type": "code",
   "execution_count": 246,
   "metadata": {},
   "outputs": [],
   "source": [
    "def compute_ACC_onG(G,x,alpha):\n",
    "    # input : G, a networkx simple graph\n",
    "    #         x, (dict) actual labels of nodes in G\n",
    "    #         alpha, (scalar) fraction of labels to observe\n",
    "    # output: ACC of local smoothing predictor\n",
    "    \n",
    "    #num_observed = int(alpha * len(x))\n",
    "    #observed = rnd.sample(x.keys(), num_observed)\n",
    "    \n",
    "    xo = {} # observed data\n",
    "    predicted = [] # empty list that will be filled with node keys that will be predicted by the algorithm\n",
    "    for n in x: # for all the nodes in the data set\n",
    "        r = rnd.random() # choose a random number\n",
    "        if r < alpha: # if the number is less than alpha, then that node and its label are observed\n",
    "            xo[n] = x[n]\n",
    "        else: # otherwise, we will use our local smoothing algorithm to predict the label\n",
    "            predicted.append(n) # keeps track of the nodes that we will be predicting values for\n",
    "            xo[n] = -1 # assigns observed value to be -1 (unobserved)\n",
    "\n",
    "    xp = xo.copy() # xp (predicted) is a shallow copy of xo (observed)\n",
    "    for n in xo:\n",
    "        if xo[n] == -1: # if the label was unobserved, run the local smoothing procedure\n",
    "            xp[n] = predictLabel_local(G,n,xo,flag= 0)\n",
    "    \n",
    "    correct_predictions = sum([1 for n in predicted if x[n] == xp[n]]) # compares predictions to original label values\n",
    "    num_predictions = len(predicted) # number of total predictions\n",
    "    if num_predictions == 0: # if none of the labels were predicted (all observed), accuracy is 1 trivially\n",
    "        return 1\n",
    "    \n",
    "    acc = correct_predictions/num_predictions\n",
    "    \n",
    "    return acc"
   ]
  },
  {
   "cell_type": "code",
   "execution_count": 247,
   "metadata": {},
   "outputs": [
    {
     "data": {
      "text/plain": [
       "0.7"
      ]
     },
     "execution_count": 247,
     "metadata": {},
     "output_type": "execute_result"
    }
   ],
   "source": [
    "compute_ACC_onG(G, z, 0.95)"
   ]
  },
  {
   "cell_type": "code",
   "execution_count": 249,
   "metadata": {},
   "outputs": [
    {
     "name": "stdout",
     "output_type": "stream",
     "text": [
      "Accuracy values for all reps: [0.6923076923076923, 0.6785714285714286, 0.76, 0.7419354838709677, 0.6885245901639344, 0.6862745098039216, 0.6949152542372882, 0.7916666666666666, 0.7368421052631579, 0.6461538461538462]\n",
      "\n",
      "[ n=298 | reps=10 ] <ACC> =  0.712\n"
     ]
    }
   ],
   "source": [
    "import random as rnd\n",
    "seed = 822 #your MMYY birthday here\n",
    "rnd.seed(seed)\n",
    "\n",
    "nreps  = 10   # number of repetitions to average over\n",
    "alpha  = 0.80  # fraction of labels to observe\n",
    "ACCs   = []   # list of nrep values of ACC\n",
    "\n",
    "##### do not modify above here #####\n",
    "####################################\n",
    "\n",
    "for _ in range(nreps):\n",
    "    ACCs.append(compute_ACC_onG(G, z, alpha))\n",
    "\n",
    "print(f'Accuracy values for all reps: {ACCs}')\n",
    "print()\n",
    "####################################\n",
    "##### do not modify below here #####    \n",
    "print(f'[ n={n} | reps={nreps} ] <ACC> = %6.3f' % np.mean(ACCs))"
   ]
  },
  {
   "cell_type": "code",
   "execution_count": 254,
   "metadata": {},
   "outputs": [
    {
     "data": {
      "text/plain": [
       "0.5838926174496645"
      ]
     },
     "execution_count": 254,
     "metadata": {},
     "output_type": "execute_result"
    }
   ],
   "source": [
    "sum([1 for n in z if z[n] == 4])/len(z) # this is the proportion of nodes in the network that have label 4"
   ]
  },
  {
   "cell_type": "code",
   "execution_count": null,
   "metadata": {},
   "outputs": [],
   "source": []
  },
  {
   "cell_type": "code",
   "execution_count": 262,
   "metadata": {},
   "outputs": [
    {
     "data": {
      "text/plain": [
       "0.8"
      ]
     },
     "execution_count": 262,
     "metadata": {},
     "output_type": "execute_result"
    }
   ],
   "source": [
    "238*0.8/238"
   ]
  },
  {
   "cell_type": "markdown",
   "metadata": {},
   "source": [
    "This result at face value seems pretty good, but because label \"4\" is so much more common than any other label in this dataset, every randomly selected unobserved value will be assigned to \"4\" which is where most of our accuracy comes from. It makes sense that the accurracy would be around 0.8 every time, even though we are replacing every unlabeled node with a 4. The slight difference between the average accuracy and our calculated accuracy mean is that when a random sample of nodes are selected to be unlabeled, a disproportionately large portion of nodes with labels other than 4 may be selected, which would bring the accuracy below 0.8."
   ]
  },
  {
   "cell_type": "markdown",
   "metadata": {},
   "source": [
    "### Problem 1-E (20 pts) putting it all together\n",
    "\n",
    "Using the code you wrote for `Problem 1-D`, write a simple wrapper around it that performs the full numerical experiment to investigate how the `local smoothing` predictor performs (mean ACC over reps) as a function of how much of the network is labeled (alpha).\n",
    "\n",
    "* Write the wrapper around your `Problem 1-D` code to measure how the mean ACC varies a function of $\\alpha$ on the malaria gene network.\n",
    "\n",
    "* Produce a single `plot` showing this function, for $\\alpha=\\{0.1, 0.3, 0.5, 0.7, 0.9\\}$ and `nreps=100` (try a smaller number to see how much roughness you're smoothing over).\n",
    "* (*Extra credit 5pts*: use at least 10 evenly-spaced increments of $\\alpha$ between 0 and 1.)\n",
    "\n",
    "* Briefly discuss what you see about how the ACC varies with $\\alpha$. What trend do you see? Does it go in the direction you would expect? Why is the worst accuracy better than $1/c$, where $c$ is the number of unique labels? Try to give some intuition as to why this behavior makes sense given what we know about how `local smoothing` works and the mean degree $\\langle k \\rangle$ of the malaria gene network.\n",
    "\n",
    "Hint: As in PS3, a key part of such a numerical experiment is how you store the intermediate results. For each choice of $\\alpha$, the core code from `Problem 1-D` will produce a single pair that you can plot $(\\alpha,\\textrm{ACC})$, but you'll need to store these pairs of values while the rest are being calculated. It may be useful to separate the code for the experiment from the code for the visualization, so that you can tinker with the latter without having to re-run the former."
   ]
  },
  {
   "cell_type": "code",
   "execution_count": 263,
   "metadata": {},
   "outputs": [],
   "source": [
    "# YOUR NUMERICAL EXPERIMENT CODE HERE\n",
    "\n",
    "alpha = [0.025 * n for n in range(1,40)] # use 39 different values of alpha in (0, 1]\n",
    "nreps = 100 # for each alpha run the experiment 100 times\n",
    "data = {a: [] for a in alpha} # store accuracy values from each rep in a list associated with the alpha value\n",
    "for a in alpha:\n",
    "    for _ in range(nreps):\n",
    "        data[a].append(compute_ACC_onG(G,z,a))\n",
    "\n",
    "x_vals = alpha\n",
    "y_vals = [np.mean(data[a]) for a in alpha] # take the mean of all accuracies associated with specific alpha"
   ]
  },
  {
   "cell_type": "code",
   "execution_count": 264,
   "metadata": {},
   "outputs": [
    {
     "data": {
      "image/png": "[encoded data removed]",
      "text/plain": [
       "<Figure size 720x504 with 1 Axes>"
      ]
     },
     "metadata": {
      "needs_background": "light"
     },
     "output_type": "display_data"
    }
   ],
   "source": [
    "# YOUR PLOTTING CODE HERE\n",
    "\n",
    "plt.figure(figsize=(10, 7))\n",
    "plt.plot(x_vals, y_vals, color='goldenrod')\n",
    "plt.title(\"Accuracy of predictions vs. proportion of observed nodes\", fontsize = 18)\n",
    "plt.xlabel(r'Proportion of observed nodes ($\\alpha$)', fontsize = 16)\n",
    "plt.ylabel('Accuracy of node attribute predictions', fontsize = 16)\n",
    "plt.show()"
   ]
  },
  {
   "cell_type": "markdown",
   "metadata": {},
   "source": [
    "The accuracy increases between alpha = 0 and alpha = 0.2 about, but then after that it pretty much flattens out around 0.7, which can be explained similar to above because of the high proportion of \"4\" labels in the network. <br>\n",
    "The worst accuracy is better than 1/$c$ because 4 is **so much more common** than any of the other labels and the mean degree of this network is 18, it would be very rare for a node to not have a neighbor with the label 4 (and by extension the mode of the labels of its neighbors to be 4). So, in most of the trials with very few observed data points, all of the nodes will be labeled 4 (so about 58% of the guesses will be right because about 58% of the nodes in this network have label 4). The reason the accuracy is lower than this though is that there will be cases in the random draw that no neighbor nodes with label 4 will be observed, which means that a different label will be assigned by the local smoothing procedure, bringing the accuracy down."
   ]
  },
  {
   "cell_type": "markdown",
   "metadata": {},
   "source": [
    "***\n",
    "***\n",
    "\n",
    "## Problem 2 : Reading the literature (*10 pts extra credit*)\n",
    "\n",
    "Choose a paper from the [Supplemental Reading list on the external course webpage](https://aaronclauset.github.io/courses/3352/). Read the paper (the whole paper, not just the abstract). Think about what it says. Then, write 1-3 sentences for each of the following questions in a way that clearly summarizes the work, and its context.\n",
    "* What was the research question?\n",
    "* What was the approach the authors took to answer that question?\n",
    "* What did they do well?\n",
    "* What could they have done better?\n",
    "* What extensions can you envision?\n",
    "\n",
    "\n",
    "Do not copy any text from the paper itself; write your own summary, in your own words in Markdown in the corresponding box below. Be sure to answer each of the five questions. The amount of extra credit will depend on the accuracy and thoughtfulness of your answers.\n",
    "\n",
    "Hint: This is a good way to generate some ideas for your class project. Also, even if you don't understand everything in the paper, that's okay. Do your best to summarize what you did understand."
   ]
  },
  {
   "cell_type": "markdown",
   "metadata": {},
   "source": [
    "* *What paper did you choose?*<br/>\n",
    "Give the Authors, Title, Publication Venue, Year\n",
    "<br/>\n",
    "\n",
    "* *What was the research question?*<br/>\n",
    "Your answer here\n",
    "<br/>\n",
    "\n",
    "* *What was the approach the authors took to answer that question?*<br/>\n",
    "Your answer here\n",
    "<br/>\n",
    "\n",
    "* *What did they do well?*<br/>\n",
    "Your answer here\n",
    "<br/>\n",
    "\n",
    "* *What could they have done better?*<br/>\n",
    "Your answer here\n",
    "<br/>\n",
    "\n",
    "* *What extensions can you envision?*<br/>\n",
    "Your answer here"
   ]
  },
  {
   "cell_type": "code",
   "execution_count": null,
   "metadata": {},
   "outputs": [],
   "source": []
  }
 ],
 "metadata": {
  "kernelspec": {
   "display_name": "Python 3 (ipykernel)",
   "language": "python",
   "name": "python3"
  },
  "language_info": {
   "codemirror_mode": {
    "name": "ipython",
    "version": 3
   },
   "file_extension": ".py",
   "mimetype": "text/x-python",
   "name": "python",
   "nbconvert_exporter": "python",
   "pygments_lexer": "ipython3",
   "version": "3.10.9"
  }
 },
 "nbformat": 4,
 "nbformat_minor": 4
}
